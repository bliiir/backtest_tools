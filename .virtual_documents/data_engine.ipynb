import sys
sys.path.append('./')
from utilities.data_manager import ExchangeDataManager

exchange_name = "Binance"

intervals = ["1M"]

# coin_to_dl = ["BTC/USDT", "ETH/USDT", "BNB/USDT", "XRP/USDT", "SOL/USDT"]
coin_to_dl = ["BTC/USDT"]
# coin_to_dl = ['BTC/USDT', 'ETH/USDT', 'BNB/USDT', 'XRP/USDT', 'DOGE/USDT', 'ADA/USDT', 'MATIC/USDT', 'DOT/USDT', 'SHIB/USDT', 'LTC/USDT', 'TRX/USDT', 'SOL/USDT', 'AVAX/USDT', 'LINK/USDT', 'ATOM/USDT', 'ETC/USDT', 'BCH/USDT', 'FIL/USDT', 'APE/USDT', 'VET/USDT', 'EGLD/USDT', 'EOS/USDT', 'SAND/USDT', 'CHZ/USDT', 'AAVE/USDT', 'AXS/USDT', 'MANA/USDT', 'CAKE/USDT', 'FTM/USDT', 'MKR/USDT', 'GRT/USDT']

exchange = ExchangeDataManager(
    exchange_name=exchange_name, 
    path_download="./database/exchanges"
)

await exchange.download_data(
    coins=coin_to_dl, 
    intervals=intervals
)


exchange_name = "binance"

exchange = ExchangeDataManager(
    exchange_name=exchange_name, 
    path_download="./database/exchanges"
)

exchange.load_data(
    coin="BTC/USDT", 
    interval="1M"
)


exchange.explore_data()



