{
 "cells": [
  {
   "cell_type": "code",
   "execution_count": 1,
   "metadata": {},
   "outputs": [
    {
     "name": "stdout",
     "output_type": "stream",
     "text": [
      "\tRecovery for the pair BTC/USDT in timeframe 1M on the exchange Binance...\n"
     ]
    },
    {
     "data": {
      "application/vnd.jupyter.widget-view+json": {
       "model_id": "030cdaeafccd4b6183bd4307603bfb1b",
       "version_major": 2,
       "version_minor": 0
      },
      "text/plain": [
       "  0%|          | 0/1 [00:00<?, ?it/s]"
      ]
     },
     "metadata": {},
     "output_type": "display_data"
    }
   ],
   "source": [
    "import sys\n",
    "sys.path.append('./')\n",
    "from utilities.data_manager import ExchangeDataManager\n",
    "\n",
    "exchange_name = \"Binance\"\n",
    "\n",
    "intervals = [\"1M\"]\n",
    "\n",
    "# coin_to_dl = [\"BTC/USDT\", \"ETH/USDT\", \"BNB/USDT\", \"XRP/USDT\", \"SOL/USDT\"]\n",
    "coin_to_dl = [\"BTC/USDT\"]\n",
    "# coin_to_dl = ['BTC/USDT', 'ETH/USDT', 'BNB/USDT', 'XRP/USDT', 'DOGE/USDT', 'ADA/USDT', 'MATIC/USDT', 'DOT/USDT', 'SHIB/USDT', 'LTC/USDT', 'TRX/USDT', 'SOL/USDT', 'AVAX/USDT', 'LINK/USDT', 'ATOM/USDT', 'ETC/USDT', 'BCH/USDT', 'FIL/USDT', 'APE/USDT', 'VET/USDT', 'EGLD/USDT', 'EOS/USDT', 'SAND/USDT', 'CHZ/USDT', 'AAVE/USDT', 'AXS/USDT', 'MANA/USDT', 'CAKE/USDT', 'FTM/USDT', 'MKR/USDT', 'GRT/USDT']\n",
    "\n",
    "exchange = ExchangeDataManager(\n",
    "    exchange_name=exchange_name, \n",
    "    path_download=\"./database/exchanges\"\n",
    ")\n",
    "\n",
    "await exchange.download_data(\n",
    "    coins=coin_to_dl, \n",
    "    intervals=intervals\n",
    ")"
   ]
  },
  {
   "cell_type": "code",
   "execution_count": 2,
   "metadata": {},
   "outputs": [
    {
     "name": "stderr",
     "output_type": "stream",
     "text": [
      "/Users/rg37147/repos/backtest_tools/utilities/data_manager.py:114: UserWarning: Could not infer format, so each element will be parsed individually, falling back to `dateutil`. To ensure parsing is consistent and as-expected, please specify a format.\n",
      "  df = pd.read_csv(file_name, index_col=0, parse_dates=True)\n"
     ]
    },
    {
     "data": {
      "text/html": [
       "<div>\n",
       "<style scoped>\n",
       "    .dataframe tbody tr th:only-of-type {\n",
       "        vertical-align: middle;\n",
       "    }\n",
       "\n",
       "    .dataframe tbody tr th {\n",
       "        vertical-align: top;\n",
       "    }\n",
       "\n",
       "    .dataframe thead th {\n",
       "        text-align: right;\n",
       "    }\n",
       "</style>\n",
       "<table border=\"1\" class=\"dataframe\">\n",
       "  <thead>\n",
       "    <tr style=\"text-align: right;\">\n",
       "      <th></th>\n",
       "      <th>open</th>\n",
       "      <th>high</th>\n",
       "      <th>low</th>\n",
       "      <th>close</th>\n",
       "      <th>volume</th>\n",
       "    </tr>\n",
       "    <tr>\n",
       "      <th>date</th>\n",
       "      <th></th>\n",
       "      <th></th>\n",
       "      <th></th>\n",
       "      <th></th>\n",
       "      <th></th>\n",
       "    </tr>\n",
       "  </thead>\n",
       "  <tbody>\n",
       "    <tr>\n",
       "      <th>2018-01-01</th>\n",
       "      <td>13715.65</td>\n",
       "      <td>17176.24</td>\n",
       "      <td>9035.00</td>\n",
       "      <td>10285.10</td>\n",
       "      <td>8.166756e+05</td>\n",
       "    </tr>\n",
       "    <tr>\n",
       "      <th>2018-02-01</th>\n",
       "      <td>10285.10</td>\n",
       "      <td>11786.01</td>\n",
       "      <td>6000.01</td>\n",
       "      <td>10326.76</td>\n",
       "      <td>1.243941e+06</td>\n",
       "    </tr>\n",
       "    <tr>\n",
       "      <th>2018-03-01</th>\n",
       "      <td>10325.64</td>\n",
       "      <td>11710.00</td>\n",
       "      <td>6600.10</td>\n",
       "      <td>6923.91</td>\n",
       "      <td>1.235326e+06</td>\n",
       "    </tr>\n",
       "    <tr>\n",
       "      <th>2018-04-01</th>\n",
       "      <td>6922.00</td>\n",
       "      <td>9759.82</td>\n",
       "      <td>6430.00</td>\n",
       "      <td>9246.01</td>\n",
       "      <td>1.110964e+06</td>\n",
       "    </tr>\n",
       "    <tr>\n",
       "      <th>2018-05-01</th>\n",
       "      <td>9246.01</td>\n",
       "      <td>10020.00</td>\n",
       "      <td>7032.95</td>\n",
       "      <td>7485.01</td>\n",
       "      <td>9.144764e+05</td>\n",
       "    </tr>\n",
       "    <tr>\n",
       "      <th>...</th>\n",
       "      <td>...</td>\n",
       "      <td>...</td>\n",
       "      <td>...</td>\n",
       "      <td>...</td>\n",
       "      <td>...</td>\n",
       "    </tr>\n",
       "    <tr>\n",
       "      <th>2023-06-01</th>\n",
       "      <td>27210.36</td>\n",
       "      <td>31431.94</td>\n",
       "      <td>24800.00</td>\n",
       "      <td>30472.00</td>\n",
       "      <td>1.387207e+06</td>\n",
       "    </tr>\n",
       "    <tr>\n",
       "      <th>2023-07-01</th>\n",
       "      <td>30471.99</td>\n",
       "      <td>31804.20</td>\n",
       "      <td>28861.90</td>\n",
       "      <td>29232.25</td>\n",
       "      <td>9.257738e+05</td>\n",
       "    </tr>\n",
       "    <tr>\n",
       "      <th>2023-08-01</th>\n",
       "      <td>29232.26</td>\n",
       "      <td>30244.00</td>\n",
       "      <td>25166.00</td>\n",
       "      <td>25940.78</td>\n",
       "      <td>1.025867e+06</td>\n",
       "    </tr>\n",
       "    <tr>\n",
       "      <th>2023-09-01</th>\n",
       "      <td>25940.77</td>\n",
       "      <td>27483.57</td>\n",
       "      <td>24901.00</td>\n",
       "      <td>26962.56</td>\n",
       "      <td>8.093290e+05</td>\n",
       "    </tr>\n",
       "    <tr>\n",
       "      <th>2023-10-01</th>\n",
       "      <td>26962.57</td>\n",
       "      <td>35280.00</td>\n",
       "      <td>26538.66</td>\n",
       "      <td>34639.77</td>\n",
       "      <td>1.141404e+06</td>\n",
       "    </tr>\n",
       "  </tbody>\n",
       "</table>\n",
       "<p>70 rows × 5 columns</p>\n",
       "</div>"
      ],
      "text/plain": [
       "                open      high       low     close        volume\n",
       "date                                                            \n",
       "2018-01-01  13715.65  17176.24   9035.00  10285.10  8.166756e+05\n",
       "2018-02-01  10285.10  11786.01   6000.01  10326.76  1.243941e+06\n",
       "2018-03-01  10325.64  11710.00   6600.10   6923.91  1.235326e+06\n",
       "2018-04-01   6922.00   9759.82   6430.00   9246.01  1.110964e+06\n",
       "2018-05-01   9246.01  10020.00   7032.95   7485.01  9.144764e+05\n",
       "...              ...       ...       ...       ...           ...\n",
       "2023-06-01  27210.36  31431.94  24800.00  30472.00  1.387207e+06\n",
       "2023-07-01  30471.99  31804.20  28861.90  29232.25  9.257738e+05\n",
       "2023-08-01  29232.26  30244.00  25166.00  25940.78  1.025867e+06\n",
       "2023-09-01  25940.77  27483.57  24901.00  26962.56  8.093290e+05\n",
       "2023-10-01  26962.57  35280.00  26538.66  34639.77  1.141404e+06\n",
       "\n",
       "[70 rows x 5 columns]"
      ]
     },
     "execution_count": 2,
     "metadata": {},
     "output_type": "execute_result"
    }
   ],
   "source": [
    "exchange_name = \"binance\"\n",
    "\n",
    "exchange = ExchangeDataManager(\n",
    "    exchange_name=exchange_name, \n",
    "    path_download=\"./database/exchanges\"\n",
    ")\n",
    "\n",
    "exchange.load_data(\n",
    "    coin=\"BTC/USDT\", \n",
    "    interval=\"1M\"\n",
    ")"
   ]
  },
  {
   "cell_type": "code",
   "execution_count": 3,
   "metadata": {},
   "outputs": [
    {
     "data": {
      "text/html": [
       "<div>\n",
       "<style scoped>\n",
       "    .dataframe tbody tr th:only-of-type {\n",
       "        vertical-align: middle;\n",
       "    }\n",
       "\n",
       "    .dataframe tbody tr th {\n",
       "        vertical-align: top;\n",
       "    }\n",
       "\n",
       "    .dataframe thead th {\n",
       "        text-align: right;\n",
       "    }\n",
       "</style>\n",
       "<table border=\"1\" class=\"dataframe\">\n",
       "  <thead>\n",
       "    <tr style=\"text-align: right;\">\n",
       "      <th></th>\n",
       "    </tr>\n",
       "  </thead>\n",
       "  <tbody>\n",
       "  </tbody>\n",
       "</table>\n",
       "</div>"
      ],
      "text/plain": [
       "Empty DataFrame\n",
       "Columns: []\n",
       "Index: []"
      ]
     },
     "execution_count": 3,
     "metadata": {},
     "output_type": "execute_result"
    }
   ],
   "source": [
    "exchange.explore_data()"
   ]
  },
  {
   "cell_type": "code",
   "execution_count": null,
   "metadata": {},
   "outputs": [],
   "source": []
  }
 ],
 "metadata": {
  "kernelspec": {
   "display_name": "Python 3 (ipykernel)",
   "language": "python",
   "name": "python3"
  },
  "language_info": {
   "codemirror_mode": {
    "name": "ipython",
    "version": 3
   },
   "file_extension": ".py",
   "mimetype": "text/x-python",
   "name": "python",
   "nbconvert_exporter": "python",
   "pygments_lexer": "ipython3",
   "version": "3.10.6"
  },
  "vscode": {
   "interpreter": {
    "hash": "d5100c10c6b669a578e86ed43dbb636d25e3c9fb9ee424ec9e5e4bad34e2e434"
   }
  }
 },
 "nbformat": 4,
 "nbformat_minor": 4
}
